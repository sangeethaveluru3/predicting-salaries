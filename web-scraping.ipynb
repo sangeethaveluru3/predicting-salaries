{
 "cells": [
  {
   "cell_type": "code",
   "execution_count": 1,
   "metadata": {
    "ExecuteTime": {
     "end_time": "2020-06-22T11:18:05.969662Z",
     "start_time": "2020-06-22T11:18:04.837452Z"
    }
   },
   "outputs": [],
   "source": [
    "import re\n",
    "import bs4\n",
    "import requests\n",
    "import numpy as np\n",
    "import pandas as pd\n",
    "from tqdm import tqdm\n",
    "from bs4 import BeautifulSoup"
   ]
  },
  {
   "cell_type": "code",
   "execution_count": 2,
   "metadata": {
    "ExecuteTime": {
     "end_time": "2020-06-22T11:18:50.341287Z",
     "start_time": "2020-06-22T11:18:50.334542Z"
    }
   },
   "outputs": [],
   "source": [
    "#Function to convert salary info into an average\n",
    "def salary_cov(x):\n",
    "    '''Function to convert salary info from a string into an numerical average\n",
    "    '''\n",
    "    if x.isdigit(): return float(x)\n",
    "    else:\n",
    "        ranges = [float(i) for i in x.split('-')]\n",
    "        return np.mean(ranges)"
   ]
  },
  {
   "cell_type": "markdown",
   "metadata": {},
   "source": [
    "After looking through the postings on the Indeed website, I decided to scrape, using BeautifulSoup, from UK and US cities as these seemed to be the bulk of the job postings and as postings from countries like France and Germany would have to be translated.\n",
    "\n",
    "- London\n",
    "- Manchester\n",
    "- Brighton \n",
    "- Birmingham\n",
    "- Bristol\n",
    "- Edinburgh\n",
    "- New York\n",
    "- San Francisco\n",
    "\n",
    "Since we were only concerned with postings with the salary information, most of the data points ended up being from UK cities as US cities seemed to not share salary information. \n",
    "\n",
    "I used the following job titles to capture all the relevant job postings in the broad spectrum of data science roles: \n",
    "\n",
    "- Data Scientist\n",
    "- Business Intelligence Analyst \n",
    "- Data Analyst \n",
    "- Quantitative Analyst\n",
    "- Machine Learning \n",
    "- Artificial Intelligence \n",
    "- Data Engineer\n",
    "\n",
    "For all of the postings, I pull out of the following information:\n",
    "- Company (mostly recruitment companies)\n",
    "- Job title \n",
    "- Salary\n",
    "- Description (the first few lines as shown on the results page)\n",
    "- Rating (if any)\n",
    "- Location (if any, although I made sure to record the city so it was easy to distinguish)\n"
   ]
  },
  {
   "cell_type": "markdown",
   "metadata": {},
   "source": [
    "### Scraping UK cities"
   ]
  },
  {
   "cell_type": "markdown",
   "metadata": {},
   "source": [
    "For each city, using the URL, I iterate through all the pages and results to pull the required information for each posting. I then drop all the duplicates and no salary postings, convert all of the salary info in numerical averages (using regex & a function), fill in any empty location and job title information. \n",
    "\n",
    "I ran through these steps for each city seperately, although in practise you could put the city names in a city and set a timer to pause between each city to avoid getting blocked by Indeed. "
   ]
  },
  {
   "cell_type": "code",
   "execution_count": 119,
   "metadata": {
    "ExecuteTime": {
     "end_time": "2020-04-01T11:32:20.547900Z",
     "start_time": "2020-04-01T11:26:51.492773Z"
    }
   },
   "outputs": [
    {
     "name": "stderr",
     "output_type": "stream",
     "text": [
      "100%|██████████| 100/100 [00:45<00:00,  2.18it/s]\n",
      "100%|██████████| 100/100 [00:55<00:00,  1.80it/s]\n",
      "100%|██████████| 100/100 [00:47<00:00,  2.12it/s]\n",
      "100%|██████████| 100/100 [00:41<00:00,  2.40it/s]\n",
      "100%|██████████| 100/100 [00:43<00:00,  2.27it/s]\n",
      "100%|██████████| 100/100 [00:37<00:00,  2.64it/s]\n",
      "100%|██████████| 100/100 [00:56<00:00,  1.76it/s]\n"
     ]
    }
   ],
   "source": [
    "company = []\n",
    "job_title = [] \n",
    "salary = [] \n",
    "description = [] \n",
    "rating = [] \n",
    "location = []\n",
    "\n",
    "titles = ['data+scientist', 'business+intelligence', 'data+analyst', 'quantitative+analyst', \n",
    "               'machine+learning', 'artificial+intelligence', 'data+engineer']\n",
    "\n",
    "for title in titles:\n",
    "    for x in tqdm(range(0, 1000,10)):\n",
    "        URL = f'https://www.indeed.co.uk/jobs?q={title}&l=Brighton%2C+East+Sussex&start={x}'\n",
    "        r = requests.get(URL)\n",
    "        soup = BeautifulSoup(r.text, 'html.parser')\n",
    "\n",
    "        for entry in soup.find_all('div', attrs = {'class':'result'}):\n",
    "\n",
    "            try:\n",
    "                company.append(entry.find('span', attrs = {'class':'company'}).text.replace('\\n', '').strip())\n",
    "            except:\n",
    "                company.append(np.nan)\n",
    "\n",
    "            try: \n",
    "                job_title.append(entry.find('a', attrs = {'target':'_blank'}).text.replace('\\n', '').strip())\n",
    "            except:\n",
    "                job_title.append(np.nan)\n",
    "\n",
    "            try:\n",
    "                salary.append(entry.find('span', attrs = {'class':'salaryText'}).text.replace('\\n', '').strip())\n",
    "            except:\n",
    "                salary.append(np.nan)\n",
    "\n",
    "            try:\n",
    "                description.append(entry.find('div', attrs = {'class':'summary'}).text.replace('\\n', '').strip())\n",
    "            except:\n",
    "                description.append(np.nan)\n",
    "\n",
    "            try:\n",
    "                rating.append(entry.find('span', attrs = {'class':'ratingsContent'}).text.replace('\\n', '').strip())\n",
    "            except:\n",
    "                rating.append(np.nan)\n",
    "            \n",
    "            try:\n",
    "                location.append(entry.find('span', attrs = {'class': 'location'}).text.replace('\\n', '').strip())\n",
    "            except:\n",
    "                location.append(np.nan)\n",
    "\n",
    "df= pd.DataFrame({'company': company, 'job_title': job_title, 'salary': salary, 'description': description,\n",
    "                  'rating': rating, 'location': location})"
   ]
  },
  {
   "cell_type": "code",
   "execution_count": 121,
   "metadata": {
    "ExecuteTime": {
     "end_time": "2020-04-01T11:34:04.009859Z",
     "start_time": "2020-04-01T11:34:03.975622Z"
    }
   },
   "outputs": [
    {
     "name": "stdout",
     "output_type": "stream",
     "text": [
      "(7914, 6)\n",
      "(382, 6)\n"
     ]
    }
   ],
   "source": [
    "#Drop all of the duplicated rows\n",
    "print(df.shape)\n",
    "df.drop(df[df.duplicated()].index, inplace=True)\n",
    "print(df.shape)"
   ]
  },
  {
   "cell_type": "code",
   "execution_count": 122,
   "metadata": {
    "ExecuteTime": {
     "end_time": "2020-04-01T11:34:04.842472Z",
     "start_time": "2020-04-01T11:34:04.831709Z"
    }
   },
   "outputs": [
    {
     "name": "stdout",
     "output_type": "stream",
     "text": [
      "(163, 6)\n"
     ]
    }
   ],
   "source": [
    "#Drop all of the null salary rows\n",
    "df.drop(df[df.salary.isnull()].index, inplace=True)\n",
    "print(df.shape)"
   ]
  },
  {
   "cell_type": "code",
   "execution_count": 123,
   "metadata": {
    "ExecuteTime": {
     "end_time": "2020-04-01T11:34:05.431330Z",
     "start_time": "2020-04-01T11:34:05.420816Z"
    }
   },
   "outputs": [
    {
     "name": "stdout",
     "output_type": "stream",
     "text": [
      "(145, 6)\n"
     ]
    }
   ],
   "source": [
    "#Using regex, drop all of the rows with salary info in month, hour, week or day\n",
    "df.drop(df[df.salary.str.contains(r'(month|hour|week|day)', flags=re.IGNORECASE, regex=True)].index, \n",
    "            inplace=True)\n",
    "print(df.shape)"
   ]
  },
  {
   "cell_type": "code",
   "execution_count": 124,
   "metadata": {
    "ExecuteTime": {
     "end_time": "2020-04-01T11:34:07.489555Z",
     "start_time": "2020-04-01T11:34:07.477035Z"
    }
   },
   "outputs": [],
   "source": [
    "#Cleaning up the salary values to extract the numerical info\n",
    "df.salary = df.salary.str.extract(r'([\\d£\\-,\\s]*)', expand=True)\n",
    "#Stripping the values of everything but digits and ranges\n",
    "df.salary = df.salary.str.replace('£', '').str.replace(' ', '').str.replace(',', '')"
   ]
  },
  {
   "cell_type": "code",
   "execution_count": 125,
   "metadata": {
    "ExecuteTime": {
     "end_time": "2020-04-01T11:34:08.057334Z",
     "start_time": "2020-04-01T11:34:08.045754Z"
    }
   },
   "outputs": [
    {
     "data": {
      "text/html": [
       "<div>\n",
       "<style scoped>\n",
       "    .dataframe tbody tr th:only-of-type {\n",
       "        vertical-align: middle;\n",
       "    }\n",
       "\n",
       "    .dataframe tbody tr th {\n",
       "        vertical-align: top;\n",
       "    }\n",
       "\n",
       "    .dataframe thead th {\n",
       "        text-align: right;\n",
       "    }\n",
       "</style>\n",
       "<table border=\"1\" class=\"dataframe\">\n",
       "  <thead>\n",
       "    <tr style=\"text-align: right;\">\n",
       "      <th></th>\n",
       "      <th>company</th>\n",
       "      <th>job_title</th>\n",
       "      <th>salary</th>\n",
       "      <th>description</th>\n",
       "      <th>rating</th>\n",
       "      <th>location</th>\n",
       "    </tr>\n",
       "  </thead>\n",
       "  <tbody>\n",
       "  </tbody>\n",
       "</table>\n",
       "</div>"
      ],
      "text/plain": [
       "Empty DataFrame\n",
       "Columns: [company, job_title, salary, description, rating, location]\n",
       "Index: []"
      ]
     },
     "execution_count": 125,
     "metadata": {},
     "output_type": "execute_result"
    }
   ],
   "source": [
    "df.salary.fillna(np.nan, inplace=True)\n",
    "df[df.salary.isnull()]"
   ]
  },
  {
   "cell_type": "code",
   "execution_count": 126,
   "metadata": {
    "ExecuteTime": {
     "end_time": "2020-04-01T11:34:08.951819Z",
     "start_time": "2020-04-01T11:34:08.942839Z"
    }
   },
   "outputs": [],
   "source": [
    "#Mapping the function all the values\n",
    "df.salary = df.salary.map(salary_cov)"
   ]
  },
  {
   "cell_type": "code",
   "execution_count": 129,
   "metadata": {
    "ExecuteTime": {
     "end_time": "2020-04-01T11:34:30.831723Z",
     "start_time": "2020-04-01T11:34:30.823593Z"
    }
   },
   "outputs": [
    {
     "name": "stdout",
     "output_type": "stream",
     "text": [
      "<class 'pandas.core.frame.DataFrame'>\n",
      "Int64Index: 145 entries, 1 to 6393\n",
      "Data columns (total 6 columns):\n",
      "company        145 non-null object\n",
      "job_title      145 non-null object\n",
      "salary         145 non-null float64\n",
      "description    145 non-null object\n",
      "rating         55 non-null object\n",
      "location       145 non-null object\n",
      "dtypes: float64(1), object(5)\n",
      "memory usage: 7.9+ KB\n"
     ]
    }
   ],
   "source": [
    "df.info()"
   ]
  },
  {
   "cell_type": "code",
   "execution_count": 128,
   "metadata": {
    "ExecuteTime": {
     "end_time": "2020-04-01T11:34:29.347441Z",
     "start_time": "2020-04-01T11:34:29.339445Z"
    }
   },
   "outputs": [],
   "source": [
    "df.location.fillna('Brighton', inplace = True )"
   ]
  },
  {
   "cell_type": "code",
   "execution_count": 23,
   "metadata": {
    "ExecuteTime": {
     "end_time": "2020-03-31T21:08:38.733619Z",
     "start_time": "2020-03-31T21:08:38.721826Z"
    }
   },
   "outputs": [],
   "source": [
    "df.job_title.fillna('Data Scientist', inplace=True)"
   ]
  },
  {
   "cell_type": "markdown",
   "metadata": {},
   "source": [
    "I saved the cities in seperate csv files to avoid getting confused between the different cities, which I then combine later on."
   ]
  },
  {
   "cell_type": "code",
   "execution_count": 130,
   "metadata": {
    "ExecuteTime": {
     "end_time": "2020-04-01T11:34:37.774877Z",
     "start_time": "2020-04-01T11:34:37.763816Z"
    }
   },
   "outputs": [],
   "source": [
    "df.to_csv('/Users/Sangeetha/GA/salary-dataset/salary-brighton.csv', header = df.columns, index=False)"
   ]
  },
  {
   "cell_type": "markdown",
   "metadata": {
    "heading_collapsed": true
   },
   "source": [
    "### Scraping US cities"
   ]
  },
  {
   "cell_type": "markdown",
   "metadata": {
    "hidden": true
   },
   "source": [
    "Repeated the same steps as for UK cities"
   ]
  },
  {
   "cell_type": "code",
   "execution_count": 55,
   "metadata": {
    "ExecuteTime": {
     "end_time": "2020-03-31T22:28:59.918262Z",
     "start_time": "2020-03-31T22:07:25.013624Z"
    },
    "hidden": true
   },
   "outputs": [
    {
     "name": "stderr",
     "output_type": "stream",
     "text": [
      "100%|██████████| 300/300 [06:50<00:00,  1.37s/it]\n",
      "100%|██████████| 300/300 [07:18<00:00,  1.46s/it]\n",
      "100%|██████████| 300/300 [07:25<00:00,  1.48s/it]\n"
     ]
    }
   ],
   "source": [
    "company = []\n",
    "job_title = [] \n",
    "salary = [] \n",
    "description = [] \n",
    "rating = [] \n",
    "location = []\n",
    "\n",
    "titles = ['machine+learning', 'artificial+intelligence', 'data+engineer']\n",
    "\n",
    "for title in titles:\n",
    "    for x in tqdm(range(0, 3000,10)):\n",
    "        URL = f'https://www.indeed.com/jobs?q={title}&l=New+York%2C+NY&start={x}'\n",
    "        r = requests.get(URL)\n",
    "        soup = BeautifulSoup(r.text, 'html.parser')\n",
    "\n",
    "        for entry in soup.find_all('div', attrs = {'class':'result'}):\n",
    "\n",
    "            try:\n",
    "                company.append(entry.find('span', attrs = {'class':'company'}).text.replace('\\n', '').strip())\n",
    "            except:\n",
    "                company.append(np.nan)\n",
    "\n",
    "            try: \n",
    "                job_title.append(entry.find('a', attrs = {'target':'_blank'}).text.replace('\\n', '').strip())\n",
    "            except:\n",
    "                job_title.append(np.nan)\n",
    "\n",
    "            try:\n",
    "                salary.append(entry.find('span', attrs = {'class':'salaryText'}).text.replace('\\n', '').strip())\n",
    "            except:\n",
    "                salary.append(np.nan)\n",
    "\n",
    "            try:\n",
    "                description.append(entry.find('div', attrs = {'class':'summary'}).text.replace('\\n', '').strip())\n",
    "            except:\n",
    "                description.append(np.nan)\n",
    "\n",
    "            try:\n",
    "                rating.append(entry.find('span', attrs = {'class':'ratingsContent'}).text.replace('\\n', '').strip())\n",
    "            except:\n",
    "                rating.append(np.nan)\n",
    "            \n",
    "            try:\n",
    "                location.append(entry.find('span', attrs = {'class': 'location'}).text.replace('\\n', '').strip())\n",
    "            except:\n",
    "                location.append(np.nan)\n",
    "\n",
    "df_ny= pd.DataFrame({'company': company, 'job_title': job_title, 'salary': salary, 'description': description,\n",
    "                  'rating': rating, 'location': location})"
   ]
  },
  {
   "cell_type": "code",
   "execution_count": 56,
   "metadata": {
    "ExecuteTime": {
     "end_time": "2020-03-31T22:33:47.393519Z",
     "start_time": "2020-03-31T22:33:47.381230Z"
    },
    "hidden": true
   },
   "outputs": [],
   "source": [
    "df=df_ny.copy()"
   ]
  },
  {
   "cell_type": "code",
   "execution_count": 57,
   "metadata": {
    "ExecuteTime": {
     "end_time": "2020-03-31T22:33:48.743047Z",
     "start_time": "2020-03-31T22:33:48.682355Z"
    },
    "hidden": true
   },
   "outputs": [
    {
     "name": "stdout",
     "output_type": "stream",
     "text": [
      "(8989, 6)\n",
      "(2589, 6)\n",
      "(87, 6)\n"
     ]
    }
   ],
   "source": [
    "#Drop all of the duplicated rows\n",
    "print(df.shape)\n",
    "df.drop(df[df.duplicated()].index, inplace=True)\n",
    "print(df.shape)\n",
    "\n",
    "#Drop all of the null salary rows\n",
    "df.drop(df[df.salary.isnull()].index, inplace=True)\n",
    "print(df.shape)"
   ]
  },
  {
   "cell_type": "code",
   "execution_count": 58,
   "metadata": {
    "ExecuteTime": {
     "end_time": "2020-03-31T22:33:51.682575Z",
     "start_time": "2020-03-31T22:33:51.670823Z"
    },
    "hidden": true
   },
   "outputs": [
    {
     "name": "stdout",
     "output_type": "stream",
     "text": [
      "(62, 6)\n"
     ]
    }
   ],
   "source": [
    "#Using regex, drop all of the rows with salary info in month, hour, week or day\n",
    "df.drop(df[df.salary.str.contains(r'(month|hour|week|day)', flags=re.IGNORECASE, regex=True)].index, \n",
    "            inplace=True)\n",
    "print(df.shape)"
   ]
  },
  {
   "cell_type": "code",
   "execution_count": 59,
   "metadata": {
    "ExecuteTime": {
     "end_time": "2020-03-31T22:33:52.411332Z",
     "start_time": "2020-03-31T22:33:52.404518Z"
    },
    "hidden": true
   },
   "outputs": [],
   "source": [
    "#Cleaning up the salary values to extract the numerical info\n",
    "df.salary = df.salary.str.extract(r'([\\d$\\-,\\s]*)', expand=True)"
   ]
  },
  {
   "cell_type": "code",
   "execution_count": 60,
   "metadata": {
    "ExecuteTime": {
     "end_time": "2020-03-31T22:33:55.326466Z",
     "start_time": "2020-03-31T22:33:55.313467Z"
    },
    "hidden": true
   },
   "outputs": [],
   "source": [
    "#Stripping the values of everything but digits and ranges\n",
    "df.salary = df.salary.str.replace('$', '').str.replace(' ', '').str.replace(',', '')"
   ]
  },
  {
   "cell_type": "code",
   "execution_count": 61,
   "metadata": {
    "ExecuteTime": {
     "end_time": "2020-03-31T22:33:56.357075Z",
     "start_time": "2020-03-31T22:33:56.340193Z"
    },
    "hidden": true
   },
   "outputs": [],
   "source": [
    "df.salary.replace('', np.nan, inplace=True)\n",
    "df.drop(df[df.salary.isnull()].index, inplace=True)"
   ]
  },
  {
   "cell_type": "code",
   "execution_count": 62,
   "metadata": {
    "ExecuteTime": {
     "end_time": "2020-03-31T22:33:56.870222Z",
     "start_time": "2020-03-31T22:33:56.860814Z"
    },
    "hidden": true
   },
   "outputs": [],
   "source": [
    "#Mapping the function all the values\n",
    "df.salary = df.salary.map(salary_cov)"
   ]
  },
  {
   "cell_type": "code",
   "execution_count": 63,
   "metadata": {
    "ExecuteTime": {
     "end_time": "2020-03-31T22:33:57.242039Z",
     "start_time": "2020-03-31T22:33:57.230693Z"
    },
    "hidden": true
   },
   "outputs": [],
   "source": [
    "#Convert to GBP, USDGBP = 0.81\n",
    "df.salary = df.salary*0.81"
   ]
  },
  {
   "cell_type": "code",
   "execution_count": 64,
   "metadata": {
    "ExecuteTime": {
     "end_time": "2020-03-31T22:33:58.147962Z",
     "start_time": "2020-03-31T22:33:58.113464Z"
    },
    "hidden": true
   },
   "outputs": [
    {
     "data": {
      "text/html": [
       "<div>\n",
       "<style scoped>\n",
       "    .dataframe tbody tr th:only-of-type {\n",
       "        vertical-align: middle;\n",
       "    }\n",
       "\n",
       "    .dataframe tbody tr th {\n",
       "        vertical-align: top;\n",
       "    }\n",
       "\n",
       "    .dataframe thead th {\n",
       "        text-align: right;\n",
       "    }\n",
       "</style>\n",
       "<table border=\"1\" class=\"dataframe\">\n",
       "  <thead>\n",
       "    <tr style=\"text-align: right;\">\n",
       "      <th></th>\n",
       "      <th>company</th>\n",
       "      <th>job_title</th>\n",
       "      <th>salary</th>\n",
       "      <th>description</th>\n",
       "      <th>rating</th>\n",
       "      <th>location</th>\n",
       "    </tr>\n",
       "  </thead>\n",
       "  <tbody>\n",
       "    <tr>\n",
       "      <td>34</td>\n",
       "      <td>Columbia University</td>\n",
       "      <td>Research Assistant</td>\n",
       "      <td>40860.450</td>\n",
       "      <td>Programming skills, with evidence of prior exp...</td>\n",
       "      <td>4.1</td>\n",
       "      <td>New York, NY</td>\n",
       "    </tr>\n",
       "    <tr>\n",
       "      <td>130</td>\n",
       "      <td>Research Foundation of The City University of ...</td>\n",
       "      <td>Post-doctoral Researcher</td>\n",
       "      <td>51585.660</td>\n",
       "      <td>Development and application of alternatives to...</td>\n",
       "      <td>4.2</td>\n",
       "      <td>New York, NY</td>\n",
       "    </tr>\n",
       "    <tr>\n",
       "      <td>136</td>\n",
       "      <td>Converseon, Inc.</td>\n",
       "      <td>Business Development Manager</td>\n",
       "      <td>72900.000</td>\n",
       "      <td>Highly organized and able to interact with pot...</td>\n",
       "      <td>NaN</td>\n",
       "      <td>New York, NY 10018</td>\n",
       "    </tr>\n",
       "    <tr>\n",
       "      <td>143</td>\n",
       "      <td>Source Enterprises</td>\n",
       "      <td>Cloud Engineer</td>\n",
       "      <td>81000.000</td>\n",
       "      <td>Automated Platform IaaS deployment, analysis, ...</td>\n",
       "      <td>5.0</td>\n",
       "      <td>New York, NY</td>\n",
       "    </tr>\n",
       "    <tr>\n",
       "      <td>153</td>\n",
       "      <td>AllocateRite</td>\n",
       "      <td>VP of Partnerships and Business Development</td>\n",
       "      <td>81000.000</td>\n",
       "      <td>NOTE: HIGH-LEVEL WALL STREET CONTACTS ARE A MU...</td>\n",
       "      <td>NaN</td>\n",
       "      <td>New York, NY 10019</td>\n",
       "    </tr>\n",
       "    <tr>\n",
       "      <td>227</td>\n",
       "      <td>Madison Logic</td>\n",
       "      <td>Data Scientist</td>\n",
       "      <td>105300.000</td>\n",
       "      <td>Apply your math, optimization, machine learnin...</td>\n",
       "      <td>3.3</td>\n",
       "      <td>New York, NY 10010</td>\n",
       "    </tr>\n",
       "    <tr>\n",
       "      <td>235</td>\n",
       "      <td>New York City POLICE DEPARTMENT</td>\n",
       "      <td>City Research Scientist, Level II</td>\n",
       "      <td>68957.325</td>\n",
       "      <td>Extensive knowledge of applied statistics, ana...</td>\n",
       "      <td>4.2</td>\n",
       "      <td>New York, NY</td>\n",
       "    </tr>\n",
       "    <tr>\n",
       "      <td>390</td>\n",
       "      <td>RedRoute</td>\n",
       "      <td>Sales Development Representative</td>\n",
       "      <td>38475.000</td>\n",
       "      <td>Our cutting-edge product utilizes AI and Machi...</td>\n",
       "      <td>NaN</td>\n",
       "      <td>Brooklyn, NY</td>\n",
       "    </tr>\n",
       "    <tr>\n",
       "      <td>626</td>\n",
       "      <td>MetroPlus Health Plan</td>\n",
       "      <td>Senior Data Scientist</td>\n",
       "      <td>87075.000</td>\n",
       "      <td>Apply data mining techniques to create statist...</td>\n",
       "      <td>3.1</td>\n",
       "      <td>New York, NY</td>\n",
       "    </tr>\n",
       "    <tr>\n",
       "      <td>756</td>\n",
       "      <td>New York City DEPT OF DESIGN &amp; CONSTRUCTION</td>\n",
       "      <td>Project Controls Manager</td>\n",
       "      <td>89882.460</td>\n",
       "      <td>Candidates with excellent data visualization, ...</td>\n",
       "      <td>3.9</td>\n",
       "      <td>Queens, NY</td>\n",
       "    </tr>\n",
       "    <tr>\n",
       "      <td>771</td>\n",
       "      <td>AllocateRite</td>\n",
       "      <td>Full Stack Engineer</td>\n",
       "      <td>48600.000</td>\n",
       "      <td>Collaborate with mobile app and website develo...</td>\n",
       "      <td>NaN</td>\n",
       "      <td>New York, NY 10019 (Midtown area)</td>\n",
       "    </tr>\n",
       "    <tr>\n",
       "      <td>3019</td>\n",
       "      <td>Foreign &amp; Commonwealth Office</td>\n",
       "      <td>Investment Officer (Creative &amp; Technology)</td>\n",
       "      <td>74677.140</td>\n",
       "      <td>Essential on arrival: The successful candidate...</td>\n",
       "      <td>4.1</td>\n",
       "      <td>New York, NY</td>\n",
       "    </tr>\n",
       "    <tr>\n",
       "      <td>3024</td>\n",
       "      <td>Brightflag</td>\n",
       "      <td>Enterprise Account Executive</td>\n",
       "      <td>129600.000</td>\n",
       "      <td>They also drive automation of time-intensive p...</td>\n",
       "      <td>NaN</td>\n",
       "      <td>New York, NY 10018 (Garment District area)</td>\n",
       "    </tr>\n",
       "    <tr>\n",
       "      <td>3038</td>\n",
       "      <td>EEG Enterprises</td>\n",
       "      <td>Technology Sales Representative</td>\n",
       "      <td>56700.000</td>\n",
       "      <td>Managing incoming sales requests through phone...</td>\n",
       "      <td>NaN</td>\n",
       "      <td>Brooklyn, NY</td>\n",
       "    </tr>\n",
       "    <tr>\n",
       "      <td>3068</td>\n",
       "      <td>Madison Logic</td>\n",
       "      <td>Data Scientist</td>\n",
       "      <td>105300.000</td>\n",
       "      <td>Act as a hands-on Data Scientist by tackling a...</td>\n",
       "      <td>3.3</td>\n",
       "      <td>New York, NY 10010 (Flatiron District area)</td>\n",
       "    </tr>\n",
       "    <tr>\n",
       "      <td>3092</td>\n",
       "      <td>Student Global, LLC</td>\n",
       "      <td>Voluntary Benefits Senior Sales Executive</td>\n",
       "      <td>76950.000</td>\n",
       "      <td>Incentive plan offered on top of the base sala...</td>\n",
       "      <td>NaN</td>\n",
       "      <td>New York, NY 10019</td>\n",
       "    </tr>\n",
       "    <tr>\n",
       "      <td>3125</td>\n",
       "      <td>New York City DEPT OF INFO TECH &amp; TELECOMM</td>\n",
       "      <td>Assistant General Counsel</td>\n",
       "      <td>72746.100</td>\n",
       "      <td>Knowledge of contract provisions relevant to d...</td>\n",
       "      <td>3.8</td>\n",
       "      <td>Brooklyn, NY 11201</td>\n",
       "    </tr>\n",
       "    <tr>\n",
       "      <td>3159</td>\n",
       "      <td>EEG Enterprises</td>\n",
       "      <td>Platform Developer (Level 2)</td>\n",
       "      <td>68850.000</td>\n",
       "      <td>We are seeking a software engineer with 3+ yea...</td>\n",
       "      <td>NaN</td>\n",
       "      <td>Brooklyn, NY</td>\n",
       "    </tr>\n",
       "    <tr>\n",
       "      <td>3475</td>\n",
       "      <td>Two Sigma</td>\n",
       "      <td>Software Engineer</td>\n",
       "      <td>146868.795</td>\n",
       "      <td>Technology drives our business — it's our main...</td>\n",
       "      <td>NaN</td>\n",
       "      <td>New York, NY 11217</td>\n",
       "    </tr>\n",
       "    <tr>\n",
       "      <td>3477</td>\n",
       "      <td>DearDoc</td>\n",
       "      <td>Account Executive</td>\n",
       "      <td>60750.000</td>\n",
       "      <td>DearDoc provides Artificial Intelligence for d...</td>\n",
       "      <td>NaN</td>\n",
       "      <td>New York, NY 10038</td>\n",
       "    </tr>\n",
       "    <tr>\n",
       "      <td>3479</td>\n",
       "      <td>Smart Hire</td>\n",
       "      <td>Sales Associate - FRESH GRADS ARE WELCOME!</td>\n",
       "      <td>32400.000</td>\n",
       "      <td>Powered by Artificial Intelligence, data analy...</td>\n",
       "      <td>NaN</td>\n",
       "      <td>New York, NY</td>\n",
       "    </tr>\n",
       "    <tr>\n",
       "      <td>3528</td>\n",
       "      <td>Verus Analytics LLC</td>\n",
       "      <td>Senior Auditor</td>\n",
       "      <td>52650.000</td>\n",
       "      <td>We use artificial intelligence, deep machine l...</td>\n",
       "      <td>NaN</td>\n",
       "      <td>New York, NY 10036</td>\n",
       "    </tr>\n",
       "    <tr>\n",
       "      <td>3531</td>\n",
       "      <td>AiCure</td>\n",
       "      <td>Software Quality Assurance Analyst</td>\n",
       "      <td>72900.000</td>\n",
       "      <td>The SQA Analyst is responsible for contributin...</td>\n",
       "      <td>4.5</td>\n",
       "      <td>New York, NY 10010</td>\n",
       "    </tr>\n",
       "    <tr>\n",
       "      <td>3541</td>\n",
       "      <td>EvTek</td>\n",
       "      <td>Lead Software Engineer (AI + Machine Vision)</td>\n",
       "      <td>60750.000</td>\n",
       "      <td>EvTek is a full-service Recycling Technology C...</td>\n",
       "      <td>NaN</td>\n",
       "      <td>New York, NY</td>\n",
       "    </tr>\n",
       "    <tr>\n",
       "      <td>3545</td>\n",
       "      <td>Velocity Black</td>\n",
       "      <td>Senior Dining Specialist (NYC)</td>\n",
       "      <td>46575.000</td>\n",
       "      <td>Welcome to concierge for the digital age.Devel...</td>\n",
       "      <td>NaN</td>\n",
       "      <td>New York, NY</td>\n",
       "    </tr>\n",
       "    <tr>\n",
       "      <td>3608</td>\n",
       "      <td>Signal AI</td>\n",
       "      <td>Sales Development Representative</td>\n",
       "      <td>50625.000</td>\n",
       "      <td>A good knowledge of the Public Relations indus...</td>\n",
       "      <td>NaN</td>\n",
       "      <td>New York, NY</td>\n",
       "    </tr>\n",
       "    <tr>\n",
       "      <td>5994</td>\n",
       "      <td>Nooklyn</td>\n",
       "      <td>Engineer</td>\n",
       "      <td>81000.000</td>\n",
       "      <td>Curiosity for data structures and algorithms.D...</td>\n",
       "      <td>3.6</td>\n",
       "      <td>Brooklyn, NY 11237 (Bushwick area)</td>\n",
       "    </tr>\n",
       "    <tr>\n",
       "      <td>6072</td>\n",
       "      <td>New York City MAYORS OFFICE OF CONTRACT SVCS</td>\n",
       "      <td>Data Engineer, Enterprise Data Services</td>\n",
       "      <td>72900.000</td>\n",
       "      <td>Assist in architecting, mapping, developing, a...</td>\n",
       "      <td>NaN</td>\n",
       "      <td>Manhattan, NY 10007</td>\n",
       "    </tr>\n",
       "    <tr>\n",
       "      <td>6094</td>\n",
       "      <td>Mayor's Office of Contract Services</td>\n",
       "      <td>Data Engineer, Enterprise Data Services</td>\n",
       "      <td>72900.000</td>\n",
       "      <td>Assist in architecting, mapping, developing, a...</td>\n",
       "      <td>NaN</td>\n",
       "      <td>Manhattan, NY 10007 (Financial District area)</td>\n",
       "    </tr>\n",
       "    <tr>\n",
       "      <td>6123</td>\n",
       "      <td>Source Enterprises</td>\n",
       "      <td>Cloud Engineer</td>\n",
       "      <td>81000.000</td>\n",
       "      <td>In the coming years, cloud technology will be ...</td>\n",
       "      <td>5.0</td>\n",
       "      <td>New York, NY</td>\n",
       "    </tr>\n",
       "    <tr>\n",
       "      <td>6175</td>\n",
       "      <td>US Department of Energy</td>\n",
       "      <td>Recent Graduate--Civil Engineer</td>\n",
       "      <td>56944.215</td>\n",
       "      <td>Prepares studies, reports and other supporting...</td>\n",
       "      <td>4.2</td>\n",
       "      <td>New York, NY</td>\n",
       "    </tr>\n",
       "    <tr>\n",
       "      <td>6219</td>\n",
       "      <td>New York City DEPT OF CITYWIDE ADMIN SVCS</td>\n",
       "      <td>Assistant Energy Engineer</td>\n",
       "      <td>60260.355</td>\n",
       "      <td>Maintaining and collecting energy audit data: ...</td>\n",
       "      <td>4.3</td>\n",
       "      <td>New York, NY</td>\n",
       "    </tr>\n",
       "    <tr>\n",
       "      <td>6274</td>\n",
       "      <td>Mayor's Office of Contract Services</td>\n",
       "      <td>Quality Assurance Engineer</td>\n",
       "      <td>84240.000</td>\n",
       "      <td>Acquire and create test data and analyze/verif...</td>\n",
       "      <td>NaN</td>\n",
       "      <td>Manhattan, NY 10007</td>\n",
       "    </tr>\n",
       "    <tr>\n",
       "      <td>6294</td>\n",
       "      <td>New York City MAYORS OFFICE OF CONTRACT SVCS</td>\n",
       "      <td>Quality Assurance Engineer</td>\n",
       "      <td>84240.000</td>\n",
       "      <td>Acquire and create test data and analyze/verif...</td>\n",
       "      <td>NaN</td>\n",
       "      <td>Manhattan, NY 10007 (Financial District area)</td>\n",
       "    </tr>\n",
       "    <tr>\n",
       "      <td>6300</td>\n",
       "      <td>New York City DEPT OF CITYWIDE ADMIN SVCS</td>\n",
       "      <td>Associate Energy Engineer</td>\n",
       "      <td>68008.005</td>\n",
       "      <td>One year of the experience as described in “1”...</td>\n",
       "      <td>4.3</td>\n",
       "      <td>New York, NY</td>\n",
       "    </tr>\n",
       "    <tr>\n",
       "      <td>6333</td>\n",
       "      <td>New York City DEPARTMENT OF CITY PLANNING</td>\n",
       "      <td>ANALYST</td>\n",
       "      <td>53055.000</td>\n",
       "      <td>Other data analysis, stakeholder engagement, a...</td>\n",
       "      <td>4.0</td>\n",
       "      <td>Manhattan, NY</td>\n",
       "    </tr>\n",
       "    <tr>\n",
       "      <td>6351</td>\n",
       "      <td>New York City DEPARTMENT OF CITY PLANNING</td>\n",
       "      <td>JUNIOR SOFTWARE ENGINEER</td>\n",
       "      <td>47074.365</td>\n",
       "      <td>ETL data loads and integration using Python or...</td>\n",
       "      <td>4.0</td>\n",
       "      <td>Manhattan, NY</td>\n",
       "    </tr>\n",
       "    <tr>\n",
       "      <td>6369</td>\n",
       "      <td>US Department of the Army</td>\n",
       "      <td>Operations Officer</td>\n",
       "      <td>82580.310</td>\n",
       "      <td>Serves as the Project Director for EOC Moderni...</td>\n",
       "      <td>4.3</td>\n",
       "      <td>Fort Hamilton, NY</td>\n",
       "    </tr>\n",
       "    <tr>\n",
       "      <td>6370</td>\n",
       "      <td>New York City OFFICE OF THE COMPTROLLER</td>\n",
       "      <td>Audit Engineer</td>\n",
       "      <td>76342.500</td>\n",
       "      <td>Perform engineering analyses, and evaluate wri...</td>\n",
       "      <td>3.7</td>\n",
       "      <td>Manhattan, NY</td>\n",
       "    </tr>\n",
       "    <tr>\n",
       "      <td>6408</td>\n",
       "      <td>New York City DEPT OF ENVIRONMENT PROTECTION</td>\n",
       "      <td>Assistant Civil Engineer</td>\n",
       "      <td>53808.300</td>\n",
       "      <td>Organize sewer data and prepare presentations ...</td>\n",
       "      <td>3.8</td>\n",
       "      <td>New York, NY 11205</td>\n",
       "    </tr>\n",
       "    <tr>\n",
       "      <td>6437</td>\n",
       "      <td>Research Foundation of The City University of ...</td>\n",
       "      <td>TTP Residency Program Manager</td>\n",
       "      <td>52650.000</td>\n",
       "      <td>Hold technical conversations with engineers at...</td>\n",
       "      <td>4.2</td>\n",
       "      <td>New York, NY</td>\n",
       "    </tr>\n",
       "    <tr>\n",
       "      <td>6464</td>\n",
       "      <td>New York City DEPARTMENT OF TRANSPORTATION</td>\n",
       "      <td>Principal Administrative Associate I</td>\n",
       "      <td>42782.175</td>\n",
       "      <td>Assist Director overseeing units/engineers wor...</td>\n",
       "      <td>4.1</td>\n",
       "      <td>Queens, NY 11101</td>\n",
       "    </tr>\n",
       "    <tr>\n",
       "      <td>6477</td>\n",
       "      <td>New York City DEPT OF INFO TECH &amp; TELECOMM</td>\n",
       "      <td>Senior Datashare Data Engineer</td>\n",
       "      <td>112590.000</td>\n",
       "      <td>Data engineers as data gurus need to play an a...</td>\n",
       "      <td>3.8</td>\n",
       "      <td>Brooklyn, NY</td>\n",
       "    </tr>\n",
       "    <tr>\n",
       "      <td>6511</td>\n",
       "      <td>Research Foundation of The City University of ...</td>\n",
       "      <td>Post-doctoral Researcher</td>\n",
       "      <td>51585.660</td>\n",
       "      <td>Experience in statistical analysis of environm...</td>\n",
       "      <td>4.2</td>\n",
       "      <td>New York, NY</td>\n",
       "    </tr>\n",
       "    <tr>\n",
       "      <td>6650</td>\n",
       "      <td>New York City DEPT OF HEALTH/MENTAL HYGIENE</td>\n",
       "      <td>Child Care Inspector, Bureau of Childcare</td>\n",
       "      <td>39812.310</td>\n",
       "      <td>Conduct data collection and reporting activiti...</td>\n",
       "      <td>4.1</td>\n",
       "      <td>New York, NY</td>\n",
       "    </tr>\n",
       "    <tr>\n",
       "      <td>6657</td>\n",
       "      <td>Research Foundation of The City University of ...</td>\n",
       "      <td>TTP Career Coach</td>\n",
       "      <td>56700.000</td>\n",
       "      <td>Experience working on Grants (MOUs, proposals,...</td>\n",
       "      <td>4.2</td>\n",
       "      <td>New York, NY</td>\n",
       "    </tr>\n",
       "    <tr>\n",
       "      <td>6681</td>\n",
       "      <td>New York City DEPT OF ENVIRONMENT PROTECTION</td>\n",
       "      <td>Engineer-In-Charge, Operational Information Sy...</td>\n",
       "      <td>78466.725</td>\n",
       "      <td>Responsible for Distribution Operation’s water...</td>\n",
       "      <td>3.8</td>\n",
       "      <td>New York, NY</td>\n",
       "    </tr>\n",
       "    <tr>\n",
       "      <td>6682</td>\n",
       "      <td>Doran Jones</td>\n",
       "      <td>Senior IT Infrastructure Engineer - Server, Da...</td>\n",
       "      <td>101250.000</td>\n",
       "      <td>The ability to fluently and seamlessly partner...</td>\n",
       "      <td>4.3</td>\n",
       "      <td>New York, NY</td>\n",
       "    </tr>\n",
       "    <tr>\n",
       "      <td>6686</td>\n",
       "      <td>New York City DEPT OF INFO TECH &amp; TELECOMM</td>\n",
       "      <td>Associate Email Security Engineer</td>\n",
       "      <td>76461.975</td>\n",
       "      <td>Oversee the use of automation tools, configura...</td>\n",
       "      <td>3.8</td>\n",
       "      <td>Manhattan, NY 10007</td>\n",
       "    </tr>\n",
       "    <tr>\n",
       "      <td>6709</td>\n",
       "      <td>New York City DEPT OF ENVIRONMENT PROTECTION</td>\n",
       "      <td>GIS Analyst</td>\n",
       "      <td>50781.330</td>\n",
       "      <td>Under supervision, performing environmental re...</td>\n",
       "      <td>3.8</td>\n",
       "      <td>Queens, NY 11375</td>\n",
       "    </tr>\n",
       "    <tr>\n",
       "      <td>6711</td>\n",
       "      <td>CEDENT</td>\n",
       "      <td>Production Support Engineer @ Jersey City, NJ</td>\n",
       "      <td>105300.000</td>\n",
       "      <td>Ability to support users on complex technical ...</td>\n",
       "      <td>NaN</td>\n",
       "      <td>Jersey City, NJ</td>\n",
       "    </tr>\n",
       "    <tr>\n",
       "      <td>6718</td>\n",
       "      <td>RedRoute</td>\n",
       "      <td>Product/Core IVR Engineer</td>\n",
       "      <td>105300.000</td>\n",
       "      <td>At RedRoute, engineers build innovative soluti...</td>\n",
       "      <td>NaN</td>\n",
       "      <td>Brooklyn, NY</td>\n",
       "    </tr>\n",
       "    <tr>\n",
       "      <td>6720</td>\n",
       "      <td>GlossGenius</td>\n",
       "      <td>Product Manager</td>\n",
       "      <td>89100.000</td>\n",
       "      <td>Partner with engineers and designers to create...</td>\n",
       "      <td>NaN</td>\n",
       "      <td>New York, NY 10012</td>\n",
       "    </tr>\n",
       "    <tr>\n",
       "      <td>6728</td>\n",
       "      <td>New York City OFFICE OF THE COMPTROLLER</td>\n",
       "      <td>Labor Relations Associate</td>\n",
       "      <td>53924.535</td>\n",
       "      <td>Previous experience handling and maintaining c...</td>\n",
       "      <td>3.7</td>\n",
       "      <td>Manhattan, NY</td>\n",
       "    </tr>\n",
       "    <tr>\n",
       "      <td>6739</td>\n",
       "      <td>RedRoute</td>\n",
       "      <td>Software Engineer</td>\n",
       "      <td>91125.000</td>\n",
       "      <td>At RedRoute, engineers build innovative soluti...</td>\n",
       "      <td>NaN</td>\n",
       "      <td>Brooklyn, NY</td>\n",
       "    </tr>\n",
       "    <tr>\n",
       "      <td>6802</td>\n",
       "      <td>New York City DEPT OF INFO TECH &amp; TELECOMM</td>\n",
       "      <td>Public Safety Network Support Engineer</td>\n",
       "      <td>80473.500</td>\n",
       "      <td>Research, evaluate and recommend network archi...</td>\n",
       "      <td>3.8</td>\n",
       "      <td>Brooklyn, NY</td>\n",
       "    </tr>\n",
       "    <tr>\n",
       "      <td>6978</td>\n",
       "      <td>New York City DEPT OF ENVIRONMENT PROTECTION</td>\n",
       "      <td>Deputy Engineer-In-Charge, Infrastructure</td>\n",
       "      <td>62748.675</td>\n",
       "      <td>Directing an engineering staff in the manageme...</td>\n",
       "      <td>3.8</td>\n",
       "      <td>New York, NY</td>\n",
       "    </tr>\n",
       "    <tr>\n",
       "      <td>7429</td>\n",
       "      <td>New York City DEPT OF ENVIRONMENT PROTECTION</td>\n",
       "      <td>Deputy Engineer-In-Charge, Infrastructure</td>\n",
       "      <td>62748.675</td>\n",
       "      <td>The NYC Department of Environmental Protection...</td>\n",
       "      <td>3.8</td>\n",
       "      <td>New York, NY</td>\n",
       "    </tr>\n",
       "  </tbody>\n",
       "</table>\n",
       "</div>"
      ],
      "text/plain": [
       "                                                company  \\\n",
       "34                                  Columbia University   \n",
       "130   Research Foundation of The City University of ...   \n",
       "136                                    Converseon, Inc.   \n",
       "143                                  Source Enterprises   \n",
       "153                                        AllocateRite   \n",
       "227                                       Madison Logic   \n",
       "235                     New York City POLICE DEPARTMENT   \n",
       "390                                            RedRoute   \n",
       "626                               MetroPlus Health Plan   \n",
       "756         New York City DEPT OF DESIGN & CONSTRUCTION   \n",
       "771                                        AllocateRite   \n",
       "3019                      Foreign & Commonwealth Office   \n",
       "3024                                         Brightflag   \n",
       "3038                                    EEG Enterprises   \n",
       "3068                                      Madison Logic   \n",
       "3092                                Student Global, LLC   \n",
       "3125         New York City DEPT OF INFO TECH & TELECOMM   \n",
       "3159                                    EEG Enterprises   \n",
       "3475                                          Two Sigma   \n",
       "3477                                            DearDoc   \n",
       "3479                                         Smart Hire   \n",
       "3528                                Verus Analytics LLC   \n",
       "3531                                             AiCure   \n",
       "3541                                              EvTek   \n",
       "3545                                     Velocity Black   \n",
       "3608                                          Signal AI   \n",
       "5994                                            Nooklyn   \n",
       "6072       New York City MAYORS OFFICE OF CONTRACT SVCS   \n",
       "6094                Mayor's Office of Contract Services   \n",
       "6123                                 Source Enterprises   \n",
       "6175                            US Department of Energy   \n",
       "6219          New York City DEPT OF CITYWIDE ADMIN SVCS   \n",
       "6274                Mayor's Office of Contract Services   \n",
       "6294       New York City MAYORS OFFICE OF CONTRACT SVCS   \n",
       "6300          New York City DEPT OF CITYWIDE ADMIN SVCS   \n",
       "6333          New York City DEPARTMENT OF CITY PLANNING   \n",
       "6351          New York City DEPARTMENT OF CITY PLANNING   \n",
       "6369                          US Department of the Army   \n",
       "6370            New York City OFFICE OF THE COMPTROLLER   \n",
       "6408       New York City DEPT OF ENVIRONMENT PROTECTION   \n",
       "6437  Research Foundation of The City University of ...   \n",
       "6464         New York City DEPARTMENT OF TRANSPORTATION   \n",
       "6477         New York City DEPT OF INFO TECH & TELECOMM   \n",
       "6511  Research Foundation of The City University of ...   \n",
       "6650        New York City DEPT OF HEALTH/MENTAL HYGIENE   \n",
       "6657  Research Foundation of The City University of ...   \n",
       "6681       New York City DEPT OF ENVIRONMENT PROTECTION   \n",
       "6682                                        Doran Jones   \n",
       "6686         New York City DEPT OF INFO TECH & TELECOMM   \n",
       "6709       New York City DEPT OF ENVIRONMENT PROTECTION   \n",
       "6711                                             CEDENT   \n",
       "6718                                           RedRoute   \n",
       "6720                                        GlossGenius   \n",
       "6728            New York City OFFICE OF THE COMPTROLLER   \n",
       "6739                                           RedRoute   \n",
       "6802         New York City DEPT OF INFO TECH & TELECOMM   \n",
       "6978       New York City DEPT OF ENVIRONMENT PROTECTION   \n",
       "7429       New York City DEPT OF ENVIRONMENT PROTECTION   \n",
       "\n",
       "                                              job_title      salary  \\\n",
       "34                                   Research Assistant   40860.450   \n",
       "130                            Post-doctoral Researcher   51585.660   \n",
       "136                        Business Development Manager   72900.000   \n",
       "143                                      Cloud Engineer   81000.000   \n",
       "153         VP of Partnerships and Business Development   81000.000   \n",
       "227                                      Data Scientist  105300.000   \n",
       "235                   City Research Scientist, Level II   68957.325   \n",
       "390                    Sales Development Representative   38475.000   \n",
       "626                               Senior Data Scientist   87075.000   \n",
       "756                            Project Controls Manager   89882.460   \n",
       "771                                 Full Stack Engineer   48600.000   \n",
       "3019         Investment Officer (Creative & Technology)   74677.140   \n",
       "3024                       Enterprise Account Executive  129600.000   \n",
       "3038                    Technology Sales Representative   56700.000   \n",
       "3068                                     Data Scientist  105300.000   \n",
       "3092          Voluntary Benefits Senior Sales Executive   76950.000   \n",
       "3125                          Assistant General Counsel   72746.100   \n",
       "3159                       Platform Developer (Level 2)   68850.000   \n",
       "3475                                  Software Engineer  146868.795   \n",
       "3477                                  Account Executive   60750.000   \n",
       "3479         Sales Associate - FRESH GRADS ARE WELCOME!   32400.000   \n",
       "3528                                     Senior Auditor   52650.000   \n",
       "3531                 Software Quality Assurance Analyst   72900.000   \n",
       "3541       Lead Software Engineer (AI + Machine Vision)   60750.000   \n",
       "3545                     Senior Dining Specialist (NYC)   46575.000   \n",
       "3608                   Sales Development Representative   50625.000   \n",
       "5994                                           Engineer   81000.000   \n",
       "6072            Data Engineer, Enterprise Data Services   72900.000   \n",
       "6094            Data Engineer, Enterprise Data Services   72900.000   \n",
       "6123                                     Cloud Engineer   81000.000   \n",
       "6175                    Recent Graduate--Civil Engineer   56944.215   \n",
       "6219                          Assistant Energy Engineer   60260.355   \n",
       "6274                         Quality Assurance Engineer   84240.000   \n",
       "6294                         Quality Assurance Engineer   84240.000   \n",
       "6300                          Associate Energy Engineer   68008.005   \n",
       "6333                                            ANALYST   53055.000   \n",
       "6351                           JUNIOR SOFTWARE ENGINEER   47074.365   \n",
       "6369                                 Operations Officer   82580.310   \n",
       "6370                                     Audit Engineer   76342.500   \n",
       "6408                           Assistant Civil Engineer   53808.300   \n",
       "6437                      TTP Residency Program Manager   52650.000   \n",
       "6464               Principal Administrative Associate I   42782.175   \n",
       "6477                     Senior Datashare Data Engineer  112590.000   \n",
       "6511                           Post-doctoral Researcher   51585.660   \n",
       "6650          Child Care Inspector, Bureau of Childcare   39812.310   \n",
       "6657                                   TTP Career Coach   56700.000   \n",
       "6681  Engineer-In-Charge, Operational Information Sy...   78466.725   \n",
       "6682  Senior IT Infrastructure Engineer - Server, Da...  101250.000   \n",
       "6686                  Associate Email Security Engineer   76461.975   \n",
       "6709                                        GIS Analyst   50781.330   \n",
       "6711      Production Support Engineer @ Jersey City, NJ  105300.000   \n",
       "6718                          Product/Core IVR Engineer  105300.000   \n",
       "6720                                    Product Manager   89100.000   \n",
       "6728                          Labor Relations Associate   53924.535   \n",
       "6739                                  Software Engineer   91125.000   \n",
       "6802             Public Safety Network Support Engineer   80473.500   \n",
       "6978          Deputy Engineer-In-Charge, Infrastructure   62748.675   \n",
       "7429          Deputy Engineer-In-Charge, Infrastructure   62748.675   \n",
       "\n",
       "                                            description rating  \\\n",
       "34    Programming skills, with evidence of prior exp...    4.1   \n",
       "130   Development and application of alternatives to...    4.2   \n",
       "136   Highly organized and able to interact with pot...    NaN   \n",
       "143   Automated Platform IaaS deployment, analysis, ...    5.0   \n",
       "153   NOTE: HIGH-LEVEL WALL STREET CONTACTS ARE A MU...    NaN   \n",
       "227   Apply your math, optimization, machine learnin...    3.3   \n",
       "235   Extensive knowledge of applied statistics, ana...    4.2   \n",
       "390   Our cutting-edge product utilizes AI and Machi...    NaN   \n",
       "626   Apply data mining techniques to create statist...    3.1   \n",
       "756   Candidates with excellent data visualization, ...    3.9   \n",
       "771   Collaborate with mobile app and website develo...    NaN   \n",
       "3019  Essential on arrival: The successful candidate...    4.1   \n",
       "3024  They also drive automation of time-intensive p...    NaN   \n",
       "3038  Managing incoming sales requests through phone...    NaN   \n",
       "3068  Act as a hands-on Data Scientist by tackling a...    3.3   \n",
       "3092  Incentive plan offered on top of the base sala...    NaN   \n",
       "3125  Knowledge of contract provisions relevant to d...    3.8   \n",
       "3159  We are seeking a software engineer with 3+ yea...    NaN   \n",
       "3475  Technology drives our business — it's our main...    NaN   \n",
       "3477  DearDoc provides Artificial Intelligence for d...    NaN   \n",
       "3479  Powered by Artificial Intelligence, data analy...    NaN   \n",
       "3528  We use artificial intelligence, deep machine l...    NaN   \n",
       "3531  The SQA Analyst is responsible for contributin...    4.5   \n",
       "3541  EvTek is a full-service Recycling Technology C...    NaN   \n",
       "3545  Welcome to concierge for the digital age.Devel...    NaN   \n",
       "3608  A good knowledge of the Public Relations indus...    NaN   \n",
       "5994  Curiosity for data structures and algorithms.D...    3.6   \n",
       "6072  Assist in architecting, mapping, developing, a...    NaN   \n",
       "6094  Assist in architecting, mapping, developing, a...    NaN   \n",
       "6123  In the coming years, cloud technology will be ...    5.0   \n",
       "6175  Prepares studies, reports and other supporting...    4.2   \n",
       "6219  Maintaining and collecting energy audit data: ...    4.3   \n",
       "6274  Acquire and create test data and analyze/verif...    NaN   \n",
       "6294  Acquire and create test data and analyze/verif...    NaN   \n",
       "6300  One year of the experience as described in “1”...    4.3   \n",
       "6333  Other data analysis, stakeholder engagement, a...    4.0   \n",
       "6351  ETL data loads and integration using Python or...    4.0   \n",
       "6369  Serves as the Project Director for EOC Moderni...    4.3   \n",
       "6370  Perform engineering analyses, and evaluate wri...    3.7   \n",
       "6408  Organize sewer data and prepare presentations ...    3.8   \n",
       "6437  Hold technical conversations with engineers at...    4.2   \n",
       "6464  Assist Director overseeing units/engineers wor...    4.1   \n",
       "6477  Data engineers as data gurus need to play an a...    3.8   \n",
       "6511  Experience in statistical analysis of environm...    4.2   \n",
       "6650  Conduct data collection and reporting activiti...    4.1   \n",
       "6657  Experience working on Grants (MOUs, proposals,...    4.2   \n",
       "6681  Responsible for Distribution Operation’s water...    3.8   \n",
       "6682  The ability to fluently and seamlessly partner...    4.3   \n",
       "6686  Oversee the use of automation tools, configura...    3.8   \n",
       "6709  Under supervision, performing environmental re...    3.8   \n",
       "6711  Ability to support users on complex technical ...    NaN   \n",
       "6718  At RedRoute, engineers build innovative soluti...    NaN   \n",
       "6720  Partner with engineers and designers to create...    NaN   \n",
       "6728  Previous experience handling and maintaining c...    3.7   \n",
       "6739  At RedRoute, engineers build innovative soluti...    NaN   \n",
       "6802  Research, evaluate and recommend network archi...    3.8   \n",
       "6978  Directing an engineering staff in the manageme...    3.8   \n",
       "7429  The NYC Department of Environmental Protection...    3.8   \n",
       "\n",
       "                                           location  \n",
       "34                                     New York, NY  \n",
       "130                                    New York, NY  \n",
       "136                              New York, NY 10018  \n",
       "143                                    New York, NY  \n",
       "153                              New York, NY 10019  \n",
       "227                              New York, NY 10010  \n",
       "235                                    New York, NY  \n",
       "390                                    Brooklyn, NY  \n",
       "626                                    New York, NY  \n",
       "756                                      Queens, NY  \n",
       "771               New York, NY 10019 (Midtown area)  \n",
       "3019                                   New York, NY  \n",
       "3024     New York, NY 10018 (Garment District area)  \n",
       "3038                                   Brooklyn, NY  \n",
       "3068    New York, NY 10010 (Flatiron District area)  \n",
       "3092                             New York, NY 10019  \n",
       "3125                             Brooklyn, NY 11201  \n",
       "3159                                   Brooklyn, NY  \n",
       "3475                             New York, NY 11217  \n",
       "3477                             New York, NY 10038  \n",
       "3479                                   New York, NY  \n",
       "3528                             New York, NY 10036  \n",
       "3531                             New York, NY 10010  \n",
       "3541                                   New York, NY  \n",
       "3545                                   New York, NY  \n",
       "3608                                   New York, NY  \n",
       "5994             Brooklyn, NY 11237 (Bushwick area)  \n",
       "6072                            Manhattan, NY 10007  \n",
       "6094  Manhattan, NY 10007 (Financial District area)  \n",
       "6123                                   New York, NY  \n",
       "6175                                   New York, NY  \n",
       "6219                                   New York, NY  \n",
       "6274                            Manhattan, NY 10007  \n",
       "6294  Manhattan, NY 10007 (Financial District area)  \n",
       "6300                                   New York, NY  \n",
       "6333                                  Manhattan, NY  \n",
       "6351                                  Manhattan, NY  \n",
       "6369                              Fort Hamilton, NY  \n",
       "6370                                  Manhattan, NY  \n",
       "6408                             New York, NY 11205  \n",
       "6437                                   New York, NY  \n",
       "6464                               Queens, NY 11101  \n",
       "6477                                   Brooklyn, NY  \n",
       "6511                                   New York, NY  \n",
       "6650                                   New York, NY  \n",
       "6657                                   New York, NY  \n",
       "6681                                   New York, NY  \n",
       "6682                                   New York, NY  \n",
       "6686                            Manhattan, NY 10007  \n",
       "6709                               Queens, NY 11375  \n",
       "6711                                Jersey City, NJ  \n",
       "6718                                   Brooklyn, NY  \n",
       "6720                             New York, NY 10012  \n",
       "6728                                  Manhattan, NY  \n",
       "6739                                   Brooklyn, NY  \n",
       "6802                                   Brooklyn, NY  \n",
       "6978                                   New York, NY  \n",
       "7429                                   New York, NY  "
      ]
     },
     "execution_count": 64,
     "metadata": {},
     "output_type": "execute_result"
    }
   ],
   "source": [
    "df"
   ]
  },
  {
   "cell_type": "code",
   "execution_count": 69,
   "metadata": {
    "ExecuteTime": {
     "end_time": "2020-03-31T22:35:39.388208Z",
     "start_time": "2020-03-31T22:35:39.370993Z"
    },
    "hidden": true
   },
   "outputs": [],
   "source": [
    "#nyc.to_csv('/Users/Sangeetha/GA/salary-dataset/salary-nyc.csv',header = df.columns, index=False)"
   ]
  },
  {
   "cell_type": "markdown",
   "metadata": {},
   "source": [
    "### Combining all the dataframes into a single csv file"
   ]
  },
  {
   "cell_type": "markdown",
   "metadata": {},
   "source": [
    "Combining all of the dataframes containing information about each city in a single file. I double checked the salary, job title and city information was clean and in the correct format before exporting to csv."
   ]
  },
  {
   "cell_type": "code",
   "execution_count": 20,
   "metadata": {
    "ExecuteTime": {
     "end_time": "2020-04-01T21:35:00.996724Z",
     "start_time": "2020-04-01T21:35:00.930559Z"
    }
   },
   "outputs": [],
   "source": [
    "london = pd.read_csv('/../../salary-dataset/salary-london.csv')\n",
    "nyc = pd.read_csv('/../../salary-dataset/salary-nyc.csv')\n",
    "sf = pd.read_csv('/../../salary-dataset/salary-CA.csv')\n",
    "birm = pd.read_csv('/../../salary-dataset/salary-birm.csv')\n",
    "brighton = pd.read_csv('/../../GA/salary-dataset/salary-brighton.csv')\n",
    "bris = pd.read_csv('/../../salary-dataset/salary-bris.csv')\n",
    "edin = pd.read_csv('/../../salary-dataset/salary-edin.csv')\n",
    "manc = pd.read_csv('/../../salary-dataset/salary-manc.csv')"
   ]
  },
  {
   "cell_type": "code",
   "execution_count": 21,
   "metadata": {
    "ExecuteTime": {
     "end_time": "2020-04-01T21:35:01.402257Z",
     "start_time": "2020-04-01T21:35:01.387944Z"
    }
   },
   "outputs": [],
   "source": [
    "london['city'] = 'London'\n",
    "nyc['city'] = 'NYC'\n",
    "sf['city'] = 'San Francisco'\n",
    "birm['city'] = 'Birmingham'\n",
    "brighton['city'] = 'Brighton'\n",
    "bris['city'] = 'Bristol'\n",
    "edin['city'] = 'Edinburgh'\n",
    "manc['city'] = 'Manchester'"
   ]
  },
  {
   "cell_type": "code",
   "execution_count": 22,
   "metadata": {
    "ExecuteTime": {
     "end_time": "2020-04-01T21:35:01.989955Z",
     "start_time": "2020-04-01T21:35:01.958183Z"
    }
   },
   "outputs": [],
   "source": [
    "salary = pd.concat([london, nyc, sf, birm, brighton, bris, edin, manc], ignore_index = True, axis=0)"
   ]
  },
  {
   "cell_type": "code",
   "execution_count": 23,
   "metadata": {
    "ExecuteTime": {
     "end_time": "2020-04-01T21:35:02.545730Z",
     "start_time": "2020-04-01T21:35:02.500309Z"
    }
   },
   "outputs": [
    {
     "data": {
      "text/html": [
       "<div>\n",
       "<style scoped>\n",
       "    .dataframe tbody tr th:only-of-type {\n",
       "        vertical-align: middle;\n",
       "    }\n",
       "\n",
       "    .dataframe tbody tr th {\n",
       "        vertical-align: top;\n",
       "    }\n",
       "\n",
       "    .dataframe thead th {\n",
       "        text-align: right;\n",
       "    }\n",
       "</style>\n",
       "<table border=\"1\" class=\"dataframe\">\n",
       "  <thead>\n",
       "    <tr style=\"text-align: right;\">\n",
       "      <th></th>\n",
       "      <th>company</th>\n",
       "      <th>job_title</th>\n",
       "      <th>salary</th>\n",
       "      <th>description</th>\n",
       "      <th>rating</th>\n",
       "      <th>location</th>\n",
       "      <th>city</th>\n",
       "    </tr>\n",
       "  </thead>\n",
       "  <tbody>\n",
       "    <tr>\n",
       "      <td>964</td>\n",
       "      <td>Meltwater</td>\n",
       "      <td>NaN</td>\n",
       "      <td>58000.0</td>\n",
       "      <td>Working across a portfolio of 100 existing and...</td>\n",
       "      <td>3.6</td>\n",
       "      <td>London</td>\n",
       "      <td>London</td>\n",
       "    </tr>\n",
       "    <tr>\n",
       "      <td>1128</td>\n",
       "      <td>Meltwater</td>\n",
       "      <td>NaN</td>\n",
       "      <td>58000.0</td>\n",
       "      <td>Working across a portfolio of 100 existing and...</td>\n",
       "      <td>NaN</td>\n",
       "      <td>London</td>\n",
       "      <td>London</td>\n",
       "    </tr>\n",
       "    <tr>\n",
       "      <td>1290</td>\n",
       "      <td>Meltwater</td>\n",
       "      <td>NaN</td>\n",
       "      <td>58000.0</td>\n",
       "      <td>I'm interested Founded in Norway with just $15...</td>\n",
       "      <td>3.6</td>\n",
       "      <td>London</td>\n",
       "      <td>London</td>\n",
       "    </tr>\n",
       "    <tr>\n",
       "      <td>1819</td>\n",
       "      <td>Robert Half United Kingdom</td>\n",
       "      <td>NaN</td>\n",
       "      <td>45000</td>\n",
       "      <td>Manage, mentor and develop a team of Data anal...</td>\n",
       "      <td>3.9</td>\n",
       "      <td>Birmingham</td>\n",
       "      <td>Birmingham</td>\n",
       "    </tr>\n",
       "    <tr>\n",
       "      <td>2004</td>\n",
       "      <td>Robert Half United Kingdom</td>\n",
       "      <td>NaN</td>\n",
       "      <td>29500</td>\n",
       "      <td>Meet the needs of a dynamic business by provid...</td>\n",
       "      <td>3.9</td>\n",
       "      <td>Birmingham</td>\n",
       "      <td>Birmingham</td>\n",
       "    </tr>\n",
       "    <tr>\n",
       "      <td>2009</td>\n",
       "      <td>Robert Half United Kingdom</td>\n",
       "      <td>NaN</td>\n",
       "      <td>45000</td>\n",
       "      <td>Match the right techniques and outputs to busi...</td>\n",
       "      <td>3.9</td>\n",
       "      <td>Birmingham</td>\n",
       "      <td>Birmingham</td>\n",
       "    </tr>\n",
       "    <tr>\n",
       "      <td>2251</td>\n",
       "      <td>Selby Jennings</td>\n",
       "      <td>NaN</td>\n",
       "      <td>65000</td>\n",
       "      <td>Identification and development of new sales op...</td>\n",
       "      <td>NaN</td>\n",
       "      <td>Brighton</td>\n",
       "      <td>Brighton</td>\n",
       "    </tr>\n",
       "    <tr>\n",
       "      <td>2423</td>\n",
       "      <td>BT</td>\n",
       "      <td>NaN</td>\n",
       "      <td>34500</td>\n",
       "      <td>Uses complex data analysis to show underlying ...</td>\n",
       "      <td>3.8</td>\n",
       "      <td>Bristol</td>\n",
       "      <td>Bristol</td>\n",
       "    </tr>\n",
       "    <tr>\n",
       "      <td>2431</td>\n",
       "      <td>BT</td>\n",
       "      <td>NaN</td>\n",
       "      <td>34500</td>\n",
       "      <td>Activities carried out have direct impact on b...</td>\n",
       "      <td>3.8</td>\n",
       "      <td>Bristol</td>\n",
       "      <td>Bristol</td>\n",
       "    </tr>\n",
       "    <tr>\n",
       "      <td>2497</td>\n",
       "      <td>BT</td>\n",
       "      <td>NaN</td>\n",
       "      <td>34500</td>\n",
       "      <td>Activities carried out have direct impact on b...</td>\n",
       "      <td>NaN</td>\n",
       "      <td>Bristol</td>\n",
       "      <td>Bristol</td>\n",
       "    </tr>\n",
       "    <tr>\n",
       "      <td>2844</td>\n",
       "      <td>BT</td>\n",
       "      <td>NaN</td>\n",
       "      <td>34500</td>\n",
       "      <td>Activities carried out have direct impact on b...</td>\n",
       "      <td>3.8</td>\n",
       "      <td>Manchester</td>\n",
       "      <td>Manchester</td>\n",
       "    </tr>\n",
       "  </tbody>\n",
       "</table>\n",
       "</div>"
      ],
      "text/plain": [
       "                         company job_title   salary  \\\n",
       "964                    Meltwater       NaN  58000.0   \n",
       "1128                   Meltwater       NaN  58000.0   \n",
       "1290                   Meltwater       NaN  58000.0   \n",
       "1819  Robert Half United Kingdom       NaN    45000   \n",
       "2004  Robert Half United Kingdom       NaN    29500   \n",
       "2009  Robert Half United Kingdom       NaN    45000   \n",
       "2251              Selby Jennings       NaN    65000   \n",
       "2423                          BT       NaN    34500   \n",
       "2431                          BT       NaN    34500   \n",
       "2497                          BT       NaN    34500   \n",
       "2844                          BT       NaN    34500   \n",
       "\n",
       "                                            description rating    location  \\\n",
       "964   Working across a portfolio of 100 existing and...    3.6      London   \n",
       "1128  Working across a portfolio of 100 existing and...    NaN      London   \n",
       "1290  I'm interested Founded in Norway with just $15...    3.6      London   \n",
       "1819  Manage, mentor and develop a team of Data anal...    3.9  Birmingham   \n",
       "2004  Meet the needs of a dynamic business by provid...    3.9  Birmingham   \n",
       "2009  Match the right techniques and outputs to busi...    3.9  Birmingham   \n",
       "2251  Identification and development of new sales op...    NaN    Brighton   \n",
       "2423  Uses complex data analysis to show underlying ...    3.8     Bristol   \n",
       "2431  Activities carried out have direct impact on b...    3.8     Bristol   \n",
       "2497  Activities carried out have direct impact on b...    NaN     Bristol   \n",
       "2844  Activities carried out have direct impact on b...    3.8  Manchester   \n",
       "\n",
       "            city  \n",
       "964       London  \n",
       "1128      London  \n",
       "1290      London  \n",
       "1819  Birmingham  \n",
       "2004  Birmingham  \n",
       "2009  Birmingham  \n",
       "2251    Brighton  \n",
       "2423     Bristol  \n",
       "2431     Bristol  \n",
       "2497     Bristol  \n",
       "2844  Manchester  "
      ]
     },
     "execution_count": 23,
     "metadata": {},
     "output_type": "execute_result"
    }
   ],
   "source": [
    "salary[salary.job_title.isnull()]"
   ]
  },
  {
   "cell_type": "code",
   "execution_count": 24,
   "metadata": {
    "ExecuteTime": {
     "end_time": "2020-04-01T21:35:03.294439Z",
     "start_time": "2020-04-01T21:35:03.288213Z"
    }
   },
   "outputs": [],
   "source": [
    "salary.job_title.fillna('Data Scientist', inplace=True)"
   ]
  },
  {
   "cell_type": "code",
   "execution_count": 25,
   "metadata": {
    "ExecuteTime": {
     "end_time": "2020-04-01T21:35:03.818619Z",
     "start_time": "2020-04-01T21:35:03.808214Z"
    }
   },
   "outputs": [
    {
     "data": {
      "text/plain": [
       "(3106, 7)"
      ]
     },
     "execution_count": 25,
     "metadata": {},
     "output_type": "execute_result"
    }
   ],
   "source": [
    "salary.shape"
   ]
  },
  {
   "cell_type": "code",
   "execution_count": 26,
   "metadata": {
    "ExecuteTime": {
     "end_time": "2020-04-01T21:35:06.241647Z",
     "start_time": "2020-04-01T21:35:06.217605Z"
    }
   },
   "outputs": [
    {
     "data": {
      "text/html": [
       "<div>\n",
       "<style scoped>\n",
       "    .dataframe tbody tr th:only-of-type {\n",
       "        vertical-align: middle;\n",
       "    }\n",
       "\n",
       "    .dataframe tbody tr th {\n",
       "        vertical-align: top;\n",
       "    }\n",
       "\n",
       "    .dataframe thead th {\n",
       "        text-align: right;\n",
       "    }\n",
       "</style>\n",
       "<table border=\"1\" class=\"dataframe\">\n",
       "  <thead>\n",
       "    <tr style=\"text-align: right;\">\n",
       "      <th></th>\n",
       "      <th>company</th>\n",
       "      <th>job_title</th>\n",
       "      <th>salary</th>\n",
       "      <th>description</th>\n",
       "      <th>rating</th>\n",
       "      <th>location</th>\n",
       "      <th>city</th>\n",
       "    </tr>\n",
       "  </thead>\n",
       "  <tbody>\n",
       "    <tr>\n",
       "      <td>915</td>\n",
       "      <td>company</td>\n",
       "      <td>job_title</td>\n",
       "      <td>salary</td>\n",
       "      <td>description</td>\n",
       "      <td>rating</td>\n",
       "      <td>location</td>\n",
       "      <td>London</td>\n",
       "    </tr>\n",
       "    <tr>\n",
       "      <td>1665</td>\n",
       "      <td>company</td>\n",
       "      <td>job_title</td>\n",
       "      <td>salary</td>\n",
       "      <td>description</td>\n",
       "      <td>rating</td>\n",
       "      <td>location</td>\n",
       "      <td>NYC</td>\n",
       "    </tr>\n",
       "    <tr>\n",
       "      <td>1775</td>\n",
       "      <td>company</td>\n",
       "      <td>job_title</td>\n",
       "      <td>salary</td>\n",
       "      <td>description</td>\n",
       "      <td>rating</td>\n",
       "      <td>location</td>\n",
       "      <td>San Francisco</td>\n",
       "    </tr>\n",
       "  </tbody>\n",
       "</table>\n",
       "</div>"
      ],
      "text/plain": [
       "      company  job_title  salary  description  rating  location           city\n",
       "915   company  job_title  salary  description  rating  location         London\n",
       "1665  company  job_title  salary  description  rating  location            NYC\n",
       "1775  company  job_title  salary  description  rating  location  San Francisco"
      ]
     },
     "execution_count": 26,
     "metadata": {},
     "output_type": "execute_result"
    }
   ],
   "source": [
    "salary[salary.salary=='salary']"
   ]
  },
  {
   "cell_type": "code",
   "execution_count": 27,
   "metadata": {
    "ExecuteTime": {
     "end_time": "2020-04-01T21:35:08.770869Z",
     "start_time": "2020-04-01T21:35:08.756762Z"
    }
   },
   "outputs": [],
   "source": [
    "salary.drop(salary[salary.salary=='salary'].index, inplace=True)"
   ]
  },
  {
   "cell_type": "code",
   "execution_count": 28,
   "metadata": {
    "ExecuteTime": {
     "end_time": "2020-04-01T21:35:09.178327Z",
     "start_time": "2020-04-01T21:35:09.161171Z"
    }
   },
   "outputs": [
    {
     "data": {
      "text/plain": [
       "(3103, 7)"
      ]
     },
     "execution_count": 28,
     "metadata": {},
     "output_type": "execute_result"
    }
   ],
   "source": [
    "salary.shape"
   ]
  },
  {
   "cell_type": "code",
   "execution_count": 29,
   "metadata": {
    "ExecuteTime": {
     "end_time": "2020-04-01T21:35:21.019112Z",
     "start_time": "2020-04-01T21:35:20.958931Z"
    }
   },
   "outputs": [],
   "source": [
    "salary.to_csv('/../../salary-full.csv', header = salary.columns, index=False)"
   ]
  },
  {
   "cell_type": "code",
   "execution_count": 4,
   "metadata": {
    "ExecuteTime": {
     "end_time": "2020-04-02T13:42:29.664786Z",
     "start_time": "2020-04-02T13:42:29.628144Z"
    }
   },
   "outputs": [
    {
     "data": {
      "text/plain": [
       "London           1511\n",
       "Birmingham        379\n",
       "Manchester        378\n",
       "Bristol           315\n",
       "NYC               210\n",
       "Brighton          145\n",
       "Edinburgh          84\n",
       "San Francisco      81\n",
       "Name: city, dtype: int64"
      ]
     },
     "execution_count": 4,
     "metadata": {},
     "output_type": "execute_result"
    }
   ],
   "source": [
    "salary.city.value_counts()"
   ]
  },
  {
   "cell_type": "code",
   "execution_count": null,
   "metadata": {},
   "outputs": [],
   "source": []
  }
 ],
 "metadata": {
  "kernelspec": {
   "display_name": "Python 3",
   "language": "python",
   "name": "python3"
  },
  "language_info": {
   "codemirror_mode": {
    "name": "ipython",
    "version": 3
   },
   "file_extension": ".py",
   "mimetype": "text/x-python",
   "name": "python",
   "nbconvert_exporter": "python",
   "pygments_lexer": "ipython3",
   "version": "3.7.4"
  },
  "toc": {
   "base_numbering": 1,
   "nav_menu": {},
   "number_sections": true,
   "sideBar": true,
   "skip_h1_title": false,
   "title_cell": "Table of Contents",
   "title_sidebar": "Contents",
   "toc_cell": false,
   "toc_position": {},
   "toc_section_display": true,
   "toc_window_display": false
  },
  "varInspector": {
   "cols": {
    "lenName": 16,
    "lenType": 16,
    "lenVar": 40
   },
   "kernels_config": {
    "python": {
     "delete_cmd_postfix": "",
     "delete_cmd_prefix": "del ",
     "library": "var_list.py",
     "varRefreshCmd": "print(var_dic_list())"
    },
    "r": {
     "delete_cmd_postfix": ") ",
     "delete_cmd_prefix": "rm(",
     "library": "var_list.r",
     "varRefreshCmd": "cat(var_dic_list()) "
    }
   },
   "types_to_exclude": [
    "module",
    "function",
    "builtin_function_or_method",
    "instance",
    "_Feature"
   ],
   "window_display": false
  }
 },
 "nbformat": 4,
 "nbformat_minor": 2
}
